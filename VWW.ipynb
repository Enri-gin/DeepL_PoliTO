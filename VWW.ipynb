{
  "cells": [
    {
      "cell_type": "markdown",
      "metadata": {
        "id": "tvmIrg8DLJ6h"
      },
      "source": [
        "# Preparing the environment"
      ]
    },
    {
      "cell_type": "code",
      "execution_count": 1,
      "metadata": {
        "id": "MRCrMlTv813W"
      },
      "outputs": [],
      "source": [
        "# !pip install cloud-tpu-client==0.10 # Per la TPU"
      ]
    },
    {
      "cell_type": "code",
      "execution_count": 2,
      "metadata": {
        "id": "Wz5NVY-d-u1P"
      },
      "outputs": [],
      "source": [
        "# # Per TPU\n",
        "# import os\n",
        "# assert os.environ['COLAB_TPU_ADDR'], 'Make sure to select TPU from Edit > Notebook settings > Hardware accelerator'\n",
        "\n",
        "# # imports pytorch\n",
        "# import torch\n",
        "\n",
        "# # imports the torch_xla package\n",
        "# import torch_xla\n",
        "# import torch_xla.core.xla_model as xm"
      ]
    },
    {
      "cell_type": "code",
      "execution_count": 3,
      "metadata": {
        "colab": {
          "base_uri": "https://localhost:8080/"
        },
        "id": "wnYvS2R2L1uS",
        "outputId": "623cf2d2-a1e4-4d55-cc2c-589dc051edd1"
      },
      "outputs": [
        {
          "output_type": "stream",
          "name": "stdout",
          "text": [
            "Cloning into 'DeepL_PoliTO'...\n",
            "remote: Enumerating objects: 274, done.\u001b[K\n",
            "remote: Counting objects: 100% (274/274), done.\u001b[K\n",
            "remote: Compressing objects: 100% (202/202), done.\u001b[K\n",
            "remote: Total 274 (delta 127), reused 202 (delta 63), pack-reused 0\u001b[K\n",
            "Receiving objects: 100% (274/274), 28.72 MiB | 6.11 MiB/s, done.\n",
            "Resolving deltas: 100% (127/127), done.\n",
            "Submodule 'DownloadVWW' (https://github.com/Enri-gin/MLandDL_polito.git) registered for path 'DownloadVWW'\n",
            "Cloning into '/content/DeepL_PoliTO/DownloadVWW'...\n",
            "remote: Enumerating objects: 95, done.        \n",
            "remote: Counting objects: 100% (95/95), done.        \n",
            "remote: Compressing objects: 100% (54/54), done.        \n",
            "remote: Total 95 (delta 38), reused 83 (delta 37), pack-reused 0        \n",
            "Receiving objects: 100% (95/95), 2.00 MiB | 9.46 MiB/s, done.\n",
            "Resolving deltas: 100% (38/38), done.\n",
            "Submodule path 'DownloadVWW': checked out '5558492fe48e8046efb4f68c9c0fc0944d8e06eb'\n"
          ]
        }
      ],
      "source": [
        "!git clone --recurse-submodules https://github.com/Enri-gin/DeepL_PoliTO.git"
      ]
    },
    {
      "cell_type": "code",
      "execution_count": 4,
      "metadata": {
        "colab": {
          "base_uri": "https://localhost:8080/"
        },
        "id": "pNc5VfZJ6057",
        "outputId": "0aaa68ee-09d4-4087-8eb6-fb3b25cb0481"
      },
      "outputs": [
        {
          "output_type": "stream",
          "name": "stdout",
          "text": [
            "/content/DeepL_PoliTO\n"
          ]
        }
      ],
      "source": [
        "cd DeepL_PoliTO/"
      ]
    },
    {
      "cell_type": "code",
      "execution_count": 5,
      "metadata": {
        "colab": {
          "base_uri": "https://localhost:8080/"
        },
        "id": "66qvj6bL7AzT",
        "outputId": "e4c1fd45-c242-430e-9e52-0b940d2f420d"
      },
      "outputs": [
        {
          "output_type": "stream",
          "name": "stdout",
          "text": [
            "Folder corrente /content/DeepL_PoliTO\n",
            "--COCO dataset scaricato\n",
            "--contenuti da train2014/val2014 copiati in all2014\n",
            "--Fatto lo split tra train e val\n",
            "--Create le annotation\n"
          ]
        }
      ],
      "source": [
        "%run load_data.py"
      ]
    },
    {
      "cell_type": "code",
      "execution_count": 6,
      "metadata": {
        "id": "4YRWuSKy5Z2e",
        "colab": {
          "base_uri": "https://localhost:8080/"
        },
        "outputId": "91aa81e1-2294-4156-d42c-99b9053632cb"
      },
      "outputs": [
        {
          "output_type": "stream",
          "name": "stdout",
          "text": [
            "Collecting pyvww\n",
            "  Downloading pyvww-0.1.1-py3-none-any.whl (8.9 kB)\n",
            "Requirement already satisfied: pycocotools in /usr/local/lib/python3.10/dist-packages (from pyvww) (2.0.7)\n",
            "Requirement already satisfied: torchvision in /usr/local/lib/python3.10/dist-packages (from pyvww) (0.15.2+cu118)\n",
            "Requirement already satisfied: matplotlib>=2.1.0 in /usr/local/lib/python3.10/dist-packages (from pycocotools->pyvww) (3.7.1)\n",
            "Requirement already satisfied: numpy in /usr/local/lib/python3.10/dist-packages (from pycocotools->pyvww) (1.23.5)\n",
            "Requirement already satisfied: requests in /usr/local/lib/python3.10/dist-packages (from torchvision->pyvww) (2.31.0)\n",
            "Requirement already satisfied: torch==2.0.1 in /usr/local/lib/python3.10/dist-packages (from torchvision->pyvww) (2.0.1+cu118)\n",
            "Requirement already satisfied: pillow!=8.3.*,>=5.3.0 in /usr/local/lib/python3.10/dist-packages (from torchvision->pyvww) (9.4.0)\n",
            "Requirement already satisfied: filelock in /usr/local/lib/python3.10/dist-packages (from torch==2.0.1->torchvision->pyvww) (3.12.2)\n",
            "Requirement already satisfied: typing-extensions in /usr/local/lib/python3.10/dist-packages (from torch==2.0.1->torchvision->pyvww) (4.7.1)\n",
            "Requirement already satisfied: sympy in /usr/local/lib/python3.10/dist-packages (from torch==2.0.1->torchvision->pyvww) (1.12)\n",
            "Requirement already satisfied: networkx in /usr/local/lib/python3.10/dist-packages (from torch==2.0.1->torchvision->pyvww) (3.1)\n",
            "Requirement already satisfied: jinja2 in /usr/local/lib/python3.10/dist-packages (from torch==2.0.1->torchvision->pyvww) (3.1.2)\n",
            "Requirement already satisfied: triton==2.0.0 in /usr/local/lib/python3.10/dist-packages (from torch==2.0.1->torchvision->pyvww) (2.0.0)\n",
            "Requirement already satisfied: cmake in /usr/local/lib/python3.10/dist-packages (from triton==2.0.0->torch==2.0.1->torchvision->pyvww) (3.27.2)\n",
            "Requirement already satisfied: lit in /usr/local/lib/python3.10/dist-packages (from triton==2.0.0->torch==2.0.1->torchvision->pyvww) (16.0.6)\n",
            "Requirement already satisfied: contourpy>=1.0.1 in /usr/local/lib/python3.10/dist-packages (from matplotlib>=2.1.0->pycocotools->pyvww) (1.1.0)\n",
            "Requirement already satisfied: cycler>=0.10 in /usr/local/lib/python3.10/dist-packages (from matplotlib>=2.1.0->pycocotools->pyvww) (0.11.0)\n",
            "Requirement already satisfied: fonttools>=4.22.0 in /usr/local/lib/python3.10/dist-packages (from matplotlib>=2.1.0->pycocotools->pyvww) (4.42.1)\n",
            "Requirement already satisfied: kiwisolver>=1.0.1 in /usr/local/lib/python3.10/dist-packages (from matplotlib>=2.1.0->pycocotools->pyvww) (1.4.4)\n",
            "Requirement already satisfied: packaging>=20.0 in /usr/local/lib/python3.10/dist-packages (from matplotlib>=2.1.0->pycocotools->pyvww) (23.1)\n",
            "Requirement already satisfied: pyparsing>=2.3.1 in /usr/local/lib/python3.10/dist-packages (from matplotlib>=2.1.0->pycocotools->pyvww) (3.1.1)\n",
            "Requirement already satisfied: python-dateutil>=2.7 in /usr/local/lib/python3.10/dist-packages (from matplotlib>=2.1.0->pycocotools->pyvww) (2.8.2)\n",
            "Requirement already satisfied: charset-normalizer<4,>=2 in /usr/local/lib/python3.10/dist-packages (from requests->torchvision->pyvww) (3.2.0)\n",
            "Requirement already satisfied: idna<4,>=2.5 in /usr/local/lib/python3.10/dist-packages (from requests->torchvision->pyvww) (3.4)\n",
            "Requirement already satisfied: urllib3<3,>=1.21.1 in /usr/local/lib/python3.10/dist-packages (from requests->torchvision->pyvww) (2.0.4)\n",
            "Requirement already satisfied: certifi>=2017.4.17 in /usr/local/lib/python3.10/dist-packages (from requests->torchvision->pyvww) (2023.7.22)\n",
            "Requirement already satisfied: six>=1.5 in /usr/local/lib/python3.10/dist-packages (from python-dateutil>=2.7->matplotlib>=2.1.0->pycocotools->pyvww) (1.16.0)\n",
            "Requirement already satisfied: MarkupSafe>=2.0 in /usr/local/lib/python3.10/dist-packages (from jinja2->torch==2.0.1->torchvision->pyvww) (2.1.3)\n",
            "Requirement already satisfied: mpmath>=0.19 in /usr/local/lib/python3.10/dist-packages (from sympy->torch==2.0.1->torchvision->pyvww) (1.3.0)\n",
            "Installing collected packages: pyvww\n",
            "Successfully installed pyvww-0.1.1\n",
            "Collecting thop\n",
            "  Downloading thop-0.1.1.post2209072238-py3-none-any.whl (15 kB)\n",
            "Requirement already satisfied: torch in /usr/local/lib/python3.10/dist-packages (from thop) (2.0.1+cu118)\n",
            "Requirement already satisfied: filelock in /usr/local/lib/python3.10/dist-packages (from torch->thop) (3.12.2)\n",
            "Requirement already satisfied: typing-extensions in /usr/local/lib/python3.10/dist-packages (from torch->thop) (4.7.1)\n",
            "Requirement already satisfied: sympy in /usr/local/lib/python3.10/dist-packages (from torch->thop) (1.12)\n",
            "Requirement already satisfied: networkx in /usr/local/lib/python3.10/dist-packages (from torch->thop) (3.1)\n",
            "Requirement already satisfied: jinja2 in /usr/local/lib/python3.10/dist-packages (from torch->thop) (3.1.2)\n",
            "Requirement already satisfied: triton==2.0.0 in /usr/local/lib/python3.10/dist-packages (from torch->thop) (2.0.0)\n",
            "Requirement already satisfied: cmake in /usr/local/lib/python3.10/dist-packages (from triton==2.0.0->torch->thop) (3.27.2)\n",
            "Requirement already satisfied: lit in /usr/local/lib/python3.10/dist-packages (from triton==2.0.0->torch->thop) (16.0.6)\n",
            "Requirement already satisfied: MarkupSafe>=2.0 in /usr/local/lib/python3.10/dist-packages (from jinja2->torch->thop) (2.1.3)\n",
            "Requirement already satisfied: mpmath>=0.19 in /usr/local/lib/python3.10/dist-packages (from sympy->torch->thop) (1.3.0)\n",
            "Installing collected packages: thop\n",
            "Successfully installed thop-0.1.1.post2209072238\n"
          ]
        }
      ],
      "source": [
        "!pip install pyvww\n",
        "!pip install thop"
      ]
    },
    {
      "cell_type": "code",
      "execution_count": 7,
      "metadata": {
        "id": "sCd4-5knkZFZ"
      },
      "outputs": [],
      "source": [
        "# !pip install timm"
      ]
    },
    {
      "cell_type": "code",
      "execution_count": 8,
      "metadata": {
        "id": "SsfCyOA8ObHX"
      },
      "outputs": [],
      "source": [
        "import torch\n",
        "import torch.nn as nn\n",
        "import torch.optim as optim\n",
        "from torch.optim import lr_scheduler\n",
        "import numpy as np\n",
        "import torchvision\n",
        "from torchvision import datasets, models\n",
        "from torchvision import transforms as T\n",
        "import matplotlib.pyplot as plt\n",
        "import pyvww\n",
        "import time\n",
        "import os\n",
        "import copy\n",
        "import json\n",
        "from Building_utils.model_by_blocks import ModelByBlocks\n",
        "from Building_utils.train_model import train_model\n",
        "from Genetic.utils import *"
      ]
    },
    {
      "cell_type": "code",
      "source": [
        "from NASWOT import compute_naswot_score\n",
        "from zero_cost_nas.foresight.pruners.predictive import find_measures"
      ],
      "metadata": {
        "id": "kAtvJhfRYFs4"
      },
      "execution_count": 9,
      "outputs": []
    },
    {
      "cell_type": "code",
      "source": [
        "import warnings\n",
        "import time\n",
        "import gc\n",
        "import random\n",
        "from google.colab import files"
      ],
      "metadata": {
        "id": "idEQIZWvYDWl"
      },
      "execution_count": 10,
      "outputs": []
    },
    {
      "cell_type": "code",
      "execution_count": 11,
      "metadata": {
        "colab": {
          "base_uri": "https://localhost:8080/"
        },
        "id": "GbW3SDn80iu_",
        "outputId": "a60c23a3-370c-42e1-f57a-9c6d831aeba2"
      },
      "outputs": [
        {
          "output_type": "stream",
          "name": "stdout",
          "text": [
            "cuda:0\n"
          ]
        }
      ],
      "source": [
        "device = torch.device(\"cuda:0\" if torch.cuda.is_available() else \"cpu\")\n",
        "print(device)"
      ]
    },
    {
      "cell_type": "code",
      "source": [
        "gamma = 0.1\n",
        "num_epochs = 16\n",
        "step_size = int(num_epochs/2)\n",
        "lr = 0.05\n",
        "momentum = 0.9\n",
        "weight_decay = 1e-6\n",
        "criterion = nn.CrossEntropyLoss()\n",
        "\n",
        "num_classes = 2\n",
        "measure_names = ['synflow']\n",
        "n_batches = 2\n"
      ],
      "metadata": {
        "id": "UoTg2U3Xy2vX"
      },
      "execution_count": 12,
      "outputs": []
    },
    {
      "cell_type": "markdown",
      "metadata": {
        "id": "bpyoWwne0y01"
      },
      "source": [
        "# Compute mean and std per channel"
      ]
    },
    {
      "cell_type": "code",
      "execution_count": null,
      "metadata": {
        "id": "LtxENQG00mHD"
      },
      "outputs": [],
      "source": [
        "import torch\n",
        "\n",
        "transform = T.Compose([\n",
        "    T.Resize((96, 96)),\n",
        "    T.ToTensor(),\n",
        "    ])\n",
        "\n",
        "batch_size = 16\n",
        "train_dataset = pyvww.pytorch.VisualWakeWordsClassification(root=\"DownloadVWW/scripts/all2014\",\n",
        "                    annFile=\"DownloadVWW/scripts/annotations/instances_train.json\",\n",
        "                    transform=transform)\n",
        "\n",
        "dataloader_train = torch.utils.data.DataLoader(train_dataset, batch_size=batch_size, shuffle=True)\n"
      ]
    },
    {
      "cell_type": "code",
      "execution_count": null,
      "metadata": {
        "colab": {
          "base_uri": "https://localhost:8080/"
        },
        "id": "4KqX4ED5F5Jn",
        "outputId": "4d667dfb-d53a-4634-c3a0-2ced864c271e"
      },
      "outputs": [
        {
          "name": "stdout",
          "output_type": "stream",
          "text": [
            "Mean: tensor([0.4701, 0.4468, 0.4075])\n",
            "Std: tensor([0.2617, 0.2573, 0.2734])\n"
          ]
        }
      ],
      "source": [
        "cnt = 0\n",
        "fst_moment = torch.empty(3)\n",
        "snd_moment = torch.empty(3)\n",
        "\n",
        "for images, _ in dataloader_train:\n",
        "    b, c, h, w = images.shape\n",
        "    nb_pixels = b * h * w\n",
        "    sum_ = torch.sum(images, dim=[0, 2, 3])\n",
        "    sum_of_square = torch.sum(images ** 2,\n",
        "                              dim=[0, 2, 3])\n",
        "    fst_moment = (cnt * fst_moment + sum_) / (cnt + nb_pixels)\n",
        "    snd_moment = (cnt * snd_moment + sum_of_square) / (cnt + nb_pixels)\n",
        "    cnt += nb_pixels\n",
        "\n",
        "mean, std = fst_moment, torch.sqrt(snd_moment - fst_moment ** 2)\n",
        "print(\"Mean:\", mean)\n",
        "print(\"Std:\", std)"
      ]
    },
    {
      "cell_type": "markdown",
      "metadata": {
        "id": "DXzwlUxnKjkF"
      },
      "source": [
        "The values of mean and std per channel are:\n",
        "\n",
        "mean = [0.4701, 0.4468, 0.4075]\n",
        "\n",
        "std = [0.2617, 0.2573, 0.2734]"
      ]
    },
    {
      "cell_type": "markdown",
      "metadata": {
        "id": "HI69kKd1LEeU"
      },
      "source": [
        "# Load the data"
      ]
    },
    {
      "cell_type": "code",
      "execution_count": 13,
      "metadata": {
        "colab": {
          "base_uri": "https://localhost:8080/"
        },
        "id": "mRQFwXMf3tjw",
        "outputId": "392c5840-109b-40f4-e3b2-f2fd803a3bb8"
      },
      "outputs": [
        {
          "output_type": "stream",
          "name": "stdout",
          "text": [
            "loading annotations into memory...\n",
            "Done (t=4.11s)\n",
            "creating index...\n",
            "index created!\n",
            "loading annotations into memory...\n",
            "Done (t=0.23s)\n",
            "creating index...\n",
            "index created!\n"
          ]
        }
      ],
      "source": [
        "mean = [0.4701, 0.4468, 0.4075]\n",
        "std = [0.2617, 0.2573, 0.2734]\n",
        "\n",
        "dim_image = 96\n",
        "\n",
        "transform_test = T.Compose([\n",
        "    T.Resize((dim_image, dim_image)),\n",
        "    T.ToTensor(),\n",
        "    T.Normalize(mean, std)\n",
        "])\n",
        "\n",
        "transform_train = T.Compose([\n",
        "    T.Resize((dim_image, dim_image)),\n",
        "    T.RandAugment(num_ops=2, magnitude=8),\n",
        "    T.ToTensor(),\n",
        "    T.Normalize(mean, std)\n",
        "])\n",
        "\n",
        "train_dataset = pyvww.pytorch.VisualWakeWordsClassification(root=\"DownloadVWW/scripts/all2014\",\n",
        "                    annFile=\"DownloadVWW/scripts/annotations/instances_train.json\",\n",
        "                    transform=transform_train)\n",
        "\n",
        "val_dataset = pyvww.pytorch.VisualWakeWordsClassification(root=\"DownloadVWW/scripts/all2014\",\n",
        "                    annFile=\"DownloadVWW/scripts/annotations/instances_val.json\",\n",
        "                    transform=transform_test)"
      ]
    },
    {
      "cell_type": "code",
      "execution_count": 14,
      "metadata": {
        "id": "S_cRopdMjEwj"
      },
      "outputs": [],
      "source": [
        "# Creating dataloaders for testing and validation\n",
        "batch_size = 64\n",
        "dataloader_train = torch.utils.data.DataLoader(train_dataset, batch_size=batch_size, shuffle=True)\n",
        "dataloader_val = torch.utils.data.DataLoader(val_dataset, batch_size=batch_size, shuffle=True)\n",
        "\n",
        "dataloaders = {'train': dataloader_train, 'val': dataloader_val}\n",
        "dataset_sizes = {'train': len(train_dataset), 'val': len(val_dataset)}"
      ]
    },
    {
      "cell_type": "markdown",
      "metadata": {
        "id": "oxAq4BvVp_j5"
      },
      "source": [
        "# Model by hands"
      ]
    },
    {
      "cell_type": "code",
      "execution_count": null,
      "metadata": {
        "id": "tDRvfYi2tAr_",
        "colab": {
          "base_uri": "https://localhost:8080/",
          "height": 1000
        },
        "outputId": "dfcca9bf-83c8-49ee-d6b8-8946eb64b1c4"
      },
      "outputs": [
        {
          "output_type": "stream",
          "name": "stdout",
          "text": [
            "model by hands has 2020950.0 parameters and 186414464.0 FLOPs\n",
            "Epoch 1/16\n",
            "----------\n",
            "train Loss: 0.6860 Acc: 0.5516\n",
            "val Loss: 0.6723 Acc: 0.5746\n",
            "Epoch training time: 14m 39s\n",
            "\n",
            "Epoch 2/16\n",
            "----------\n",
            "train Loss: 0.6685 Acc: 0.5930\n",
            "val Loss: 0.6585 Acc: 0.6134\n",
            "Epoch training time: 14m 29s\n",
            "\n",
            "Epoch 3/16\n",
            "----------\n",
            "train Loss: 0.6522 Acc: 0.6187\n",
            "val Loss: 0.6677 Acc: 0.6013\n",
            "Epoch training time: 14m 30s\n",
            "\n",
            "Epoch 4/16\n",
            "----------\n",
            "train Loss: 0.6406 Acc: 0.6314\n",
            "val Loss: 0.6340 Acc: 0.6425\n",
            "Epoch training time: 14m 29s\n",
            "\n",
            "Epoch 5/16\n",
            "----------\n",
            "train Loss: 0.6327 Acc: 0.6405\n",
            "val Loss: 0.6178 Acc: 0.6570\n",
            "Epoch training time: 14m 30s\n",
            "\n",
            "Epoch 6/16\n",
            "----------\n",
            "train Loss: 0.6255 Acc: 0.6496\n",
            "val Loss: 0.6187 Acc: 0.6595\n",
            "Epoch training time: 14m 30s\n",
            "\n",
            "Epoch 7/16\n",
            "----------\n",
            "train Loss: 0.6154 Acc: 0.6598\n",
            "val Loss: 0.6040 Acc: 0.6734\n",
            "Epoch training time: 14m 25s\n",
            "\n",
            "Epoch 8/16\n",
            "----------\n",
            "train Loss: 0.6047 Acc: 0.6713\n",
            "val Loss: 0.6065 Acc: 0.6814\n",
            "Epoch training time: 14m 22s\n",
            "\n",
            "Epoch 9/16\n",
            "----------\n",
            "train Loss: 0.5763 Acc: 0.6972\n",
            "val Loss: 0.5646 Acc: 0.7077\n",
            "Epoch training time: 14m 25s\n",
            "\n",
            "Epoch 10/16\n",
            "----------\n",
            "train Loss: 0.5691 Acc: 0.7020\n",
            "val Loss: 0.5568 Acc: 0.7137\n",
            "Epoch training time: 14m 24s\n",
            "\n",
            "Epoch 11/16\n",
            "----------\n",
            "train Loss: 0.5623 Acc: 0.7071\n",
            "val Loss: 0.5517 Acc: 0.7153\n",
            "Epoch training time: 14m 24s\n",
            "\n",
            "Epoch 12/16\n",
            "----------\n",
            "train Loss: 0.5596 Acc: 0.7085\n",
            "val Loss: 0.5470 Acc: 0.7197\n",
            "Epoch training time: 14m 23s\n",
            "\n",
            "Epoch 13/16\n",
            "----------\n",
            "train Loss: 0.5549 Acc: 0.7126\n",
            "val Loss: 0.5449 Acc: 0.7182\n",
            "Epoch training time: 14m 21s\n",
            "\n",
            "Epoch 14/16\n",
            "----------\n",
            "train Loss: 0.5501 Acc: 0.7160\n",
            "val Loss: 0.5433 Acc: 0.7255\n",
            "Epoch training time: 14m 20s\n",
            "\n",
            "Epoch 15/16\n",
            "----------\n",
            "train Loss: 0.5475 Acc: 0.7178\n",
            "val Loss: 0.5368 Acc: 0.7253\n",
            "Epoch training time: 14m 23s\n",
            "\n",
            "Epoch 16/16\n",
            "----------\n",
            "train Loss: 0.5419 Acc: 0.7238\n",
            "val Loss: 0.5270 Acc: 0.7347\n",
            "Epoch training time: 14m 26s\n",
            "\n",
            "Training complete in 230m 59s\n",
            "Best val Acc: 0.734707\n"
          ]
        },
        {
          "output_type": "display_data",
          "data": {
            "text/plain": [
              "<IPython.core.display.Javascript object>"
            ],
            "application/javascript": [
              "\n",
              "    async function download(id, filename, size) {\n",
              "      if (!google.colab.kernel.accessAllowed) {\n",
              "        return;\n",
              "      }\n",
              "      const div = document.createElement('div');\n",
              "      const label = document.createElement('label');\n",
              "      label.textContent = `Downloading \"${filename}\": `;\n",
              "      div.appendChild(label);\n",
              "      const progress = document.createElement('progress');\n",
              "      progress.max = size;\n",
              "      div.appendChild(progress);\n",
              "      document.body.appendChild(div);\n",
              "\n",
              "      const buffers = [];\n",
              "      let downloaded = 0;\n",
              "\n",
              "      const channel = await google.colab.kernel.comms.open(id);\n",
              "      // Send a message to notify the kernel that we're ready.\n",
              "      channel.send({})\n",
              "\n",
              "      for await (const message of channel.messages) {\n",
              "        // Send a message to notify the kernel that we're ready.\n",
              "        channel.send({})\n",
              "        if (message.buffers) {\n",
              "          for (const buffer of message.buffers) {\n",
              "            buffers.push(buffer);\n",
              "            downloaded += buffer.byteLength;\n",
              "            progress.value = downloaded;\n",
              "          }\n",
              "        }\n",
              "      }\n",
              "      const blob = new Blob(buffers, {type: 'application/binary'});\n",
              "      const a = document.createElement('a');\n",
              "      a.href = window.URL.createObjectURL(blob);\n",
              "      a.download = filename;\n",
              "      div.appendChild(a);\n",
              "      a.click();\n",
              "      div.remove();\n",
              "    }\n",
              "  "
            ]
          },
          "metadata": {}
        },
        {
          "output_type": "display_data",
          "data": {
            "text/plain": [
              "<IPython.core.display.Javascript object>"
            ],
            "application/javascript": [
              "download(\"download_f4a6999b-dcbb-423f-843c-7c49e002a4e0\", \"hand_model_2_stats.json\", 1362)"
            ]
          },
          "metadata": {}
        },
        {
          "output_type": "display_data",
          "data": {
            "text/plain": [
              "<IPython.core.display.Javascript object>"
            ],
            "application/javascript": [
              "\n",
              "    async function download(id, filename, size) {\n",
              "      if (!google.colab.kernel.accessAllowed) {\n",
              "        return;\n",
              "      }\n",
              "      const div = document.createElement('div');\n",
              "      const label = document.createElement('label');\n",
              "      label.textContent = `Downloading \"${filename}\": `;\n",
              "      div.appendChild(label);\n",
              "      const progress = document.createElement('progress');\n",
              "      progress.max = size;\n",
              "      div.appendChild(progress);\n",
              "      document.body.appendChild(div);\n",
              "\n",
              "      const buffers = [];\n",
              "      let downloaded = 0;\n",
              "\n",
              "      const channel = await google.colab.kernel.comms.open(id);\n",
              "      // Send a message to notify the kernel that we're ready.\n",
              "      channel.send({})\n",
              "\n",
              "      for await (const message of channel.messages) {\n",
              "        // Send a message to notify the kernel that we're ready.\n",
              "        channel.send({})\n",
              "        if (message.buffers) {\n",
              "          for (const buffer of message.buffers) {\n",
              "            buffers.push(buffer);\n",
              "            downloaded += buffer.byteLength;\n",
              "            progress.value = downloaded;\n",
              "          }\n",
              "        }\n",
              "      }\n",
              "      const blob = new Blob(buffers, {type: 'application/binary'});\n",
              "      const a = document.createElement('a');\n",
              "      a.href = window.URL.createObjectURL(blob);\n",
              "      a.download = filename;\n",
              "      div.appendChild(a);\n",
              "      a.click();\n",
              "      div.remove();\n",
              "    }\n",
              "  "
            ]
          },
          "metadata": {}
        },
        {
          "output_type": "display_data",
          "data": {
            "text/plain": [
              "<IPython.core.display.Javascript object>"
            ],
            "application/javascript": [
              "download(\"download_1d21c993-3439-45ab-9e93-7fa902ed66cf\", \"hand_model_2.pth\", 8210121)"
            ]
          },
          "metadata": {}
        }
      ],
      "source": [
        "hand_model = ModelByBlocks([['c', 32, 3, 4, 1], ['c', 32, 3, 3, 2],\n",
        "                              ['c', 64, 5, 3, 2], ['c', 64, 5, 2, 2],\n",
        "                              ['i', 128, 3, 3, 1], ['i', 128, 3, 2, 2],\n",
        "                              ['c', 128, 5, 3, 2], ['i', 256, 3, 3, 1],\n",
        "                              ['i', 256, 3, 2, 1], ['i', 256, 5, 4, 1]])\n",
        "\n",
        "macs, n_param = get_macs_and_params(hand_model, [1, 3, 96, 96])\n",
        "\n",
        "print(f'model by hands has {n_param} parameters and {macs*2} FLOPs')\n",
        "\n",
        "optimizer = optim.SGD(hand_model.parameters(), lr=lr,\n",
        "                      momentum=momentum, weight_decay=weight_decay)\n",
        "\n",
        "step_lr_scheduler = lr_scheduler.StepLR(optimizer, step_size=step_size, gamma=gamma)\n",
        "hand_model = hand_model.to(device)\n",
        "fitted_hand_model, hand_model_stats = train_model(hand_model, dataloaders, dataset_sizes, criterion, optimizer,\n",
        "                                step_lr_scheduler, device=device, num_epochs=num_epochs)\n",
        "\n",
        "torch.save(fitted_hand_model.state_dict(), './hand_model.pth')\n",
        "\n",
        "with open('hand_model_stats.json', 'w') as json_file:\n",
        "    json.dump(hand_model_stats, json_file)\n",
        "\n",
        "files.download('hand_model_stats.json')\n",
        "files.download('hand_model.pth')\n"
      ]
    },
    {
      "cell_type": "code",
      "source": [
        "z = range(1, num_epochs+1)\n",
        "plt.plot(z, hand_model_stats['Training Accuracy'], label='Train')\n",
        "plt.plot(z, hand_model_stats['Validation Accuracy'], label='Val')\n",
        "\n",
        "# Dai un nome agli assi\n",
        "plt.xlabel('Epoch')\n",
        "plt.ylabel('Accuracy')\n",
        "\n",
        "plt.legend(loc='lower right')\n",
        "plt.grid(linewidth=0.5)\n",
        "plt.title('Accuracy hand model')\n",
        "\n",
        "# Visualizza il grafico\n",
        "plt.show()"
      ],
      "metadata": {
        "colab": {
          "base_uri": "https://localhost:8080/",
          "height": 472
        },
        "id": "e3CTW7bP0wJZ",
        "outputId": "475388c6-72c9-43e5-c297-1c95a55cc4e8"
      },
      "execution_count": null,
      "outputs": [
        {
          "output_type": "display_data",
          "data": {
            "text/plain": [
              "<Figure size 640x480 with 1 Axes>"
            ],
            "image/png": "[encoded data removed]"
          },
          "metadata": {}
        }
      ]
    },
    {
      "cell_type": "markdown",
      "source": [
        "# Compute probabilities"
      ],
      "metadata": {
        "id": "loD4CHgBy5yW"
      }
    },
    {
      "cell_type": "code",
      "source": [
        "geometric_samples = []\n",
        "probs = []\n",
        "max_n_blocks = 12\n",
        "\n",
        "for n_blocks in range(1, max_n_blocks+1):\n",
        "  print(f\"{n_blocks}/{max_n_blocks}\")\n",
        "  for _ in range(200):\n",
        "    count = 1\n",
        "    modello_a_caso = generate_random_list_of_lists(1, n_blocks)[0]\n",
        "    mod_caso = ModelByBlocks(modello_a_caso)\n",
        "    while not respect_constraints(mod_caso):\n",
        "      modello_a_caso = generate_random_list_of_lists(1, n_blocks)[0]\n",
        "      mod_caso = ModelByBlocks(modello_a_caso)\n",
        "      count += 1\n",
        "    geometric_samples.append(count)\n",
        "  mean_geo_samples = sum(geometric_samples)/len(geometric_samples)\n",
        "  prob = 1/mean_geo_samples\n",
        "  probs.append(prob)\n",
        "\n",
        "\n",
        "# print(f\"Probability of accepting the architecture is: {prob*100:.3f}%\")"
      ],
      "metadata": {
        "colab": {
          "base_uri": "https://localhost:8080/"
        },
        "id": "HM0J7P6paQ5C",
        "outputId": "78edd010-c055-46cd-e559-ddc585dd51bd"
      },
      "execution_count": null,
      "outputs": [
        {
          "output_type": "stream",
          "name": "stdout",
          "text": [
            "1/12\n",
            "2/12\n",
            "3/12\n",
            "4/12\n",
            "5/12\n",
            "6/12\n",
            "7/12\n",
            "8/12\n",
            "9/12\n",
            "10/12\n",
            "11/12\n",
            "12/12\n"
          ]
        }
      ]
    },
    {
      "cell_type": "code",
      "source": [
        "z = np.arange(1, max_n_blocks+1)\n",
        "plt.plot(z, probs)\n",
        "plt.xticks(z)\n",
        "plt.xlabel('Number Of Blocks')\n",
        "plt.ylabel('Probability')\n",
        "plt.grid(linewidth=0.5)\n",
        "plt.title('Generating a new architecure per block number')\n",
        "plt.show()\n"
      ],
      "metadata": {
        "colab": {
          "base_uri": "https://localhost:8080/",
          "height": 472
        },
        "id": "e9CGLw5wjbBE",
        "outputId": "357d8ea0-089c-45dc-f041-cee0e09989fc"
      },
      "execution_count": null,
      "outputs": [
        {
          "output_type": "display_data",
          "data": {
            "text/plain": [
              "<Figure size 640x480 with 1 Axes>"
            ],
            "image/png": "[encoded data removed]"
          },
          "metadata": {}
        }
      ]
    },
    {
      "cell_type": "code",
      "source": [
        "print(probs)"
      ],
      "metadata": {
        "colab": {
          "base_uri": "https://localhost:8080/"
        },
        "id": "K-3WUQv52OlZ",
        "outputId": "f2d0829b-0135-494f-f818-23a3e06b6364"
      },
      "execution_count": null,
      "outputs": [
        {
          "output_type": "stream",
          "name": "stdout",
          "text": [
            "[0.6600660066006601, 0.2775850104094379, 0.13850415512465375, 0.09603841536614646, 0.07197869430648528, 0.058428279287175, 0.05209302325581395, 0.047633224173861274, 0.04265706092850203, 0.040125995626266474, 0.03766349380264329, 0.03603820049252207]\n"
          ]
        }
      ]
    },
    {
      "cell_type": "markdown",
      "metadata": {
        "id": "RpPwkiYJh9e1"
      },
      "source": [
        "# Random Search"
      ]
    },
    {
      "cell_type": "markdown",
      "metadata": {
        "id": "M4pPTwcwDaWU"
      },
      "source": [
        "## Generate search space"
      ]
    },
    {
      "cell_type": "code",
      "execution_count": null,
      "metadata": {
        "id": "6Cv_26R6iCUF"
      },
      "outputs": [],
      "source": [
        "N_SEARCH = 500\n",
        "seed_value = 42\n",
        "MAX_PARAMS = 2_500_000\n",
        "MAX_FLOPS = 200_000_000\n",
        "n_blocks = 10\n",
        "dim_image = 96\n",
        "\n",
        "random_search = generate_random_list_of_lists(N_SEARCH, n_blocks, seed=seed_value)\n",
        "times_rejected = []\n",
        "\n",
        "# Disabilita tutti i messaggi di avviso\n",
        "warnings.filterwarnings(\"ignore\")\n",
        "\n",
        "print(\"Progression in percentage:\")\n",
        "\n",
        "for i in range(N_SEARCH):\n",
        "\n",
        "  percent = (i / (N_SEARCH - 1)) * 100\n",
        "  print(f\"\\r{percent:.2f}%\", end=\"\")\n",
        "  time.sleep(0.001)  # Aggiungi un ritardo per simulare l'aggiornamento della barra\n",
        "\n",
        "  random_model = ModelByBlocks(random_search[i])\n",
        "  macs, params = get_macs_and_params(random_model, [1, 3, 96, 96])\n",
        "\n",
        "  count = 0\n",
        "\n",
        "  if params > MAX_PARAMS or macs*2 > MAX_FLOPS: # If the model that we just created overcomes the costraints:\n",
        "    flag_to_replace = 0\n",
        "    while flag_to_replace == 0:\n",
        "      seed_value = seed_value + 1\n",
        "      fictional_pop = generate_random_list_of_lists(1, n_blocks, seed=seed_value)\n",
        "      model_to_replace = ModelByBlocks(fictional_pop[0])\n",
        "      if respect_constraints(model_to_replace):\n",
        "        random_search[i] = fictional_pop[0]\n",
        "        flag_to_replace = 1\n",
        "      else:\n",
        "        count += 1\n",
        "      model_to_replace.cpu()\n",
        "      del model_to_replace\n",
        "      gc.collect()\n",
        "      torch.cuda.empty_cache()\n",
        "\n",
        "  times_rejected.append(count)\n",
        "  random_model.cpu()\n",
        "  del random_model\n",
        "  gc.collect()\n",
        "  torch.cuda.empty_cache()\n",
        "\n",
        "print()  # Vai a capo dopo aver completato la progressione\n",
        "print(f\"Average rejection rate = {sum(times_rejected) / len(times_rejected)}\")\n",
        "\n",
        "# Riabilita i messaggi di avviso\n",
        "warnings.resetwarnings()"
      ]
    },
    {
      "cell_type": "markdown",
      "metadata": {
        "id": "kFXgSHNzCoiR"
      },
      "source": [
        "## Rating the models in searching space"
      ]
    },
    {
      "cell_type": "code",
      "execution_count": null,
      "metadata": {
        "id": "6SdhzeNE9wOg"
      },
      "outputs": [],
      "source": [
        "x, target = next(iter(dataloader_train))\n",
        "score_random_nas = []\n",
        "score_random_syn = []\n",
        "\n",
        "# Disabilita tutti i messaggi di avviso\n",
        "warnings.filterwarnings(\"ignore\")\n",
        "\n",
        "print(\"Progression in percentage:\")\n",
        "for i in range(N_SEARCH):\n",
        "  percent = (i / (N_SEARCH - 1)) * 100\n",
        "  print(f\"\\r{percent:.2f}%\", end=\"\")\n",
        "  time.sleep(0.001)  # Aggiungi un ritardo per simulare l'aggiornamento della barra\n",
        "\n",
        "  model = ModelByBlocks(random_search[i])\n",
        "\n",
        "  score_nas = compute_naswot_score(model, dataloader_train)\n",
        "\n",
        "  measures = find_measures(model, dataloader_train, dataload_info=('random',batch_size, num_classes), device=device, measure_names=measure_names)\n",
        "  score_syn = measures['synflow']\n",
        "\n",
        "  if not respect_constraints(model):\n",
        "    score_nas = 0\n",
        "    score_syn = 0\n",
        "\n",
        "  score_random_nas.append(score_nas)\n",
        "  score_random_syn.append(score_syn)\n",
        "\n",
        "  model.cpu()\n",
        "\n",
        "  del model\n",
        "  gc.collect()\n",
        "  torch.cuda.empty_cache()\n",
        "\n",
        "print()  # Vai a capo dopo aver completato la progressione\n",
        "\n",
        "# Riabilita i messaggi di avviso\n",
        "warnings.resetwarnings()\n",
        "\n",
        "NN = 3\n",
        "fitness_list, list_index = calculate_fitness(score_random_nas, score_random_syn, NN)\n",
        "\n",
        "print('-- RANDOM SEARCH --')\n",
        "for i in range(NN):\n",
        "  print(f'The best {i+1}-th score is {round(fitness_list[list_index[i]],3)} of the {list_index[i]}-th model: {history[list_index[i]]}')\n",
        "\n",
        "with open('history_random.json', 'w') as json_file:\n",
        "    json.dump(random_search, json_file)\n",
        "\n",
        "with open('naswot_random.json', 'w') as json_file:\n",
        "    json.dump(score_random_nas, json_file)\n",
        "\n",
        "with open('synflow_random.json', 'w') as json_file:\n",
        "    json.dump(score_random_syn, json_file)\n",
        "\n",
        "files.download('naswot_random.json')\n",
        "files.download('synflow_random.json')\n",
        "files.download('history_random.json')\n"
      ]
    },
    {
      "cell_type": "markdown",
      "metadata": {
        "id": "ktrSjeKsEnmF"
      },
      "source": [
        "## Evaluating best model of random search"
      ]
    },
    {
      "cell_type": "code",
      "execution_count": null,
      "metadata": {
        "id": "wbdvwh74EvMJ"
      },
      "outputs": [],
      "source": [
        "best_random_search = ModelByBlocks([['i', 48, 5, 4, 2], ['c', 72, 9, 4, 2],\n",
        "                                    ['c', 126, 3, 1, 2], ['c', 58, 5, 1, 1],\n",
        "                                    ['i', 206, 3, 5, 2], ['i', 40, 7, 5, 1],\n",
        "                                    ['i', 104, 5, 5, 1], ['i', 194, 9, 3, 2],\n",
        "                                    ['i', 70, 9, 4, 1], ['i', 46, 7, 4, 2]])"
      ]
    },
    {
      "cell_type": "code",
      "execution_count": null,
      "metadata": {
        "id": "ex6SL-XAFULC"
      },
      "outputs": [],
      "source": [
        "criterion = nn.CrossEntropyLoss()\n",
        "\n",
        "optimizer = optim.SGD(best_random_search.parameters(), lr=lr,\n",
        "                      momentum=momentum, weight_decay=weight_decay)\n",
        "\n",
        "step_lr_scheduler = lr_scheduler.StepLR(optimizer, step_size=step_size, gamma=gamma)\n",
        "best_random_search = best_random_search.to(device)\n",
        "fitted_best_random_search, best_random_search_stats = train_model(best_random_search, dataloaders, dataset_sizes, criterion, optimizer,\n",
        "                                step_lr_scheduler, device=device, num_epochs=num_epochs)\n",
        "\n",
        "torch.save(fitted_best_random_search.state_dict(), './best_random_search.pth')\n"
      ]
    },
    {
      "cell_type": "code",
      "source": [
        "z = range(1, 17)\n",
        "plt.plot(z, best_random_search_stats['Training Accuracy'], label='Train')\n",
        "plt.plot(z, best_random_search_stats['Validation Accuracy'], label='Val')\n",
        "\n",
        "# Dai un nome agli assi\n",
        "plt.xlabel('Epoch')\n",
        "plt.ylabel('Accuracy')\n",
        "\n",
        "plt.legend(loc='lower right')\n",
        "plt.grid(linewidth=0.5)\n",
        "plt.title('Accuracy best model random search')\n",
        "\n",
        "# Visualizza il grafico\n",
        "plt.show()"
      ],
      "metadata": {
        "id": "Wf4-HBx920ek"
      },
      "execution_count": null,
      "outputs": []
    },
    {
      "cell_type": "markdown",
      "metadata": {
        "id": "SsV1Xo6HtFEy"
      },
      "source": [
        "# Genetic Algorithm\n"
      ]
    },
    {
      "cell_type": "markdown",
      "metadata": {
        "id": "wL9nyEkQtZWj"
      },
      "source": [
        "## Initialization"
      ]
    },
    {
      "cell_type": "code",
      "source": [
        "P = 50\n",
        "C = 500\n",
        "n_blocks = 10\n",
        "S = 20 # sub-sample random\n",
        "seed_value = 42"
      ],
      "metadata": {
        "id": "WcNYwe-yQMiD"
      },
      "execution_count": 15,
      "outputs": []
    },
    {
      "cell_type": "code",
      "source": [
        "with open('Models/population/Initial_population.json') as f_json:\n",
        "  initial_population = json.load(f_json)"
      ],
      "metadata": {
        "id": "uUKzqXXSHy4-"
      },
      "execution_count": 16,
      "outputs": []
    },
    {
      "cell_type": "code",
      "source": [
        "history = [] # track all the architectures\n",
        "for i in range(P):\n",
        "  history.append(initial_population[i])\n",
        "\n",
        "x, target = next(iter(dataloader_train))"
      ],
      "metadata": {
        "id": "oqJfujivcoGZ"
      },
      "execution_count": 17,
      "outputs": []
    },
    {
      "cell_type": "code",
      "source": [
        "initial_flops = []\n",
        "initial_params = []\n",
        "score_initial_nas = []\n",
        "score_initial_syn = []\n",
        "\n",
        "for seq_block in initial_population:\n",
        "  model = ModelByBlocks(seq_block)\n",
        "  macs, params = get_macs_and_params(model, [1, 3, 96, 96])\n",
        "  initial_flops.append(macs*2)\n",
        "  initial_params.append(params)\n",
        "\n",
        "  measures = find_measures(model, dataloader_train, dataload_info=('random', 2, 2), device=device, measure_names=['synflow'])\n",
        "  score_initial_nas.append(compute_naswot_score(model, x, target, device))\n",
        "  score_initial_syn.append(measures['synflow'])\n",
        "\n",
        "point_sizes, _ = calculate_fitness(score_initial_nas, score_initial_syn, len(score_initial_syn))"
      ],
      "metadata": {
        "id": "bzqptuHwbuuH"
      },
      "execution_count": null,
      "outputs": []
    },
    {
      "cell_type": "code",
      "source": [
        "# Point sizes are between 0 and 2, therefore the difference os not very notable\n",
        "# That's why we are doing ^4 and x100\n",
        "plt.scatter(initial_flops, initial_params, alpha=0.5, s=100*(np.array(point_sizes)**4))\n",
        "plt.xlabel('FLOPs')\n",
        "plt.ylabel('N_params')\n",
        "\n",
        "plt.grid(linewidth=0.5)\n",
        "plt.title('Scatter plot of the initial population flops and n_params')\n",
        "plt.show()"
      ],
      "metadata": {
        "colab": {
          "base_uri": "https://localhost:8080/",
          "height": 487
        },
        "id": "NRyEhjSocjJp",
        "outputId": "a47f3a46-027c-4033-9c2a-07ba9fe0732e"
      },
      "execution_count": null,
      "outputs": [
        {
          "output_type": "display_data",
          "data": {
            "text/plain": [
              "<Figure size 640x480 with 1 Axes>"
            ],
            "image/png": "[encoded data removed]"
          },
          "metadata": {}
        }
      ]
    },
    {
      "cell_type": "markdown",
      "source": [
        "## Actual Algorithm"
      ],
      "metadata": {
        "id": "SOVkbOE5lNhk"
      }
    },
    {
      "cell_type": "markdown",
      "source": [
        "To do the esperiment regarding the different number of blocks, just change the n_blocks variable"
      ],
      "metadata": {
        "id": "-d6H75d3UddF"
      }
    },
    {
      "cell_type": "code",
      "execution_count": null,
      "metadata": {
        "id": "OGZYp-1TsdcH"
      },
      "outputs": [],
      "source": [
        "n_blocks = 10\n",
        "dim_image = 96\n",
        "count_crossover = 0\n",
        "num_classes = 2\n",
        "measure_names = ['synflow']\n",
        "\n",
        "# Disabilita tutti i messaggi di avviso\n",
        "warnings.filterwarnings(\"ignore\")\n",
        "\n",
        "random_seed = 42\n",
        "random.seed(random_seed)\n",
        "\n",
        "print(\"Progression in percentage:\")\n",
        "\n",
        "for i in range(C):\n",
        "  percent = (i / (C - 1)) * 100\n",
        "  print(f\"\\r{percent:.2f}%\", end=\"\")\n",
        "  time.sleep(0.001)  # Aggiungi un ritardo per simulare l'aggiornamento della barra\n",
        "\n",
        "  sample_S = random.sample(history[-P:], S)\n",
        "  score_sample_nas = []\n",
        "  score_sample_syn = []\n",
        "\n",
        "  for j in range(S):\n",
        "    model = ModelByBlocks(sample_S[j])\n",
        "    score_nas = compute_naswot_score(model, x, target, device)\n",
        "    score_sample_nas.append(score_nas)\n",
        "\n",
        "    measures = find_measures(model, dataloader_train,\n",
        "                             dataload_info=('random', 2, num_classes),\n",
        "                             device=device, measure_names=measure_names)\n",
        "    score_syn = np.log(measures['synflow'])\n",
        "    score_sample_syn.append(score_syn)\n",
        "\n",
        "    model.cpu()\n",
        "    del model\n",
        "    gc.collect()\n",
        "    torch.cuda.empty_cache()\n",
        "\n",
        "  NN = 2\n",
        "  _, list_index = calculate_fitness(score_sample_nas, score_sample_syn, NN)\n",
        "  parent1 = sample_S[list_index[0]]\n",
        "  parent2 = sample_S[list_index[1]]\n",
        "\n",
        "  parent_1 = copy.deepcopy(parent1)\n",
        "  parent_2 = copy.deepcopy(parent2)\n",
        "\n",
        "  crossover_1 = []\n",
        "  crossover_1.extend(parent_1[:int(n_blocks/2)])\n",
        "  crossover_1.extend(parent_2[-int(n_blocks/2):])\n",
        "\n",
        "  group = (i - 1) // int(C/4)\n",
        "  num_blocks_to_mutate = 4 - group\n",
        "\n",
        "  mod_cross_1 = ModelByBlocks(crossover_1)\n",
        "  if respect_constraints(mod_cross_1):\n",
        "      history.append(crossover_1)\n",
        "      count_crossover += 1\n",
        "  mod_cross_1.cpu()\n",
        "  del mod_cross_1\n",
        "  gc.collect()\n",
        "  torch.cuda.empty_cache()\n",
        "\n",
        "\n",
        "  mutation_1 = mutate(parent_1, n_mutation = num_blocks_to_mutate)\n",
        "  mod_mut_1 = ModelByBlocks(mutation_1)\n",
        "  if respect_constraints(mod_mut_1):\n",
        "    history.append(mutation_1)\n",
        "\n",
        "  mod_mut_1.cpu()\n",
        "  del mod_mut_1\n",
        "  gc.collect()\n",
        "  torch.cuda.empty_cache()\n",
        "\n",
        "\n",
        "  mutation_2 = mutate(parent_2, n_mutation = num_blocks_to_mutate)\n",
        "  mod_mut_2 = ModelByBlocks(mutation_2)\n",
        "  if respect_constraints(mod_mut_2):\n",
        "    history.append(mutation_2)\n",
        "\n",
        "  mod_mut_2.cpu()\n",
        "  del mod_mut_2\n",
        "  gc.collect()\n",
        "  torch.cuda.empty_cache()\n",
        "\n",
        "print()  # Vai a capo dopo aver completato la progressione\n",
        "\n",
        "# Riabilita i messaggi di avviso\n",
        "warnings.resetwarnings()"
      ]
    },
    {
      "cell_type": "code",
      "execution_count": null,
      "metadata": {
        "id": "Ai5yJ99lVLzb"
      },
      "outputs": [],
      "source": [
        "# Convert every list 10 blocchi in a tuple of tuples\n",
        "tuple_data = [tuple(map(tuple, sublist)) for sublist in history]\n",
        "\n",
        "# Use the set to delete copies\n",
        "unique_history = set(tuple_data)\n",
        "\n",
        "count_unique_lists = len(unique_history)\n",
        "\n",
        "print(\"Number of unique lists:\", count_unique_lists)"
      ]
    },
    {
      "cell_type": "code",
      "source": [
        "unique_history = list(unique_history)\n",
        "with open('history_genetic_new_P50_S20.json', 'w') as json_file:\n",
        "    json.dump(unique_history, json_file)"
      ],
      "metadata": {
        "id": "4X-jQlh0w-bV"
      },
      "execution_count": null,
      "outputs": []
    },
    {
      "cell_type": "code",
      "execution_count": null,
      "metadata": {
        "id": "R6eT5e0kuHX0"
      },
      "outputs": [],
      "source": [
        "score_total_nas = []\n",
        "score_total_syn = []\n",
        "\n",
        "# Disabilita tutti i messaggi di avviso\n",
        "warnings.filterwarnings(\"ignore\")\n",
        "\n",
        "print(\"Progression in percentage:\")\n",
        "\n",
        "for i in range(len(unique_history)):\n",
        "\n",
        "  percent = (i / (len(unique_history) - 1)) * 100\n",
        "  print(f\"\\r{percent:.2f}%\", end=\"\")\n",
        "  time.sleep(0.001)  # Aggiungi un ritardo per simulare l'aggiornamento della barra\n",
        "\n",
        "  model = ModelByBlocks(unique_history[i])\n",
        "  score_nas = compute_naswot_score(model, x, target, device)\n",
        "  score_total_nas.append(score_nas)\n",
        "\n",
        "  measures = find_measures(model, dataloader_train, dataload_info=('random', 2, num_classes), device=device, measure_names=measure_names)\n",
        "  score_syn = measures['synflow']\n",
        "  score_total_syn.append(score_syn)\n",
        "\n",
        "  model.cpu()\n",
        "\n",
        "  del model\n",
        "  gc.collect()\n",
        "  torch.cuda.empty_cache()\n",
        "\n",
        "print()\n",
        "\n",
        "# Riabilita i messaggi di avviso\n",
        "warnings.resetwarnings()\n",
        "\n",
        "NN = 3\n",
        "fitness_list_evo, list_index_evo = calculate_fitness(score_total_nas, score_total_syn, NN)\n",
        "\n",
        "print('-- EVOLUTIONARY ALGORITHM P50 S20 --')\n",
        "for i in range(NN):\n",
        "  print(f'The best {i+1}-th score is {round(fitness_list_evo[list_index_evo[i]],3)} [NASWOT: {round(score_total_nas[list_index_evo[i]],3)}, Log-Synflow: {round(score_total_syn[list_index_evo[i]],3)}] of the {list_index_evo[i]}-th model:')\n",
        "  print(f'{unique_history[list_index_evo[i]]}')"
      ]
    },
    {
      "cell_type": "code",
      "source": [
        "with open('naswot_genetic_P50_S20.json', 'w') as json_file:\n",
        "    json.dump(score_total_nas, json_file)\n",
        "\n",
        "with open('synflow_genetic_P50_S20.json', 'w') as json_file:\n",
        "    json.dump(score_total_syn, json_file)\n",
        "\n",
        "files.download('naswot_genetic_P50_S20.json')\n",
        "files.download('synflow_genetic_P50_S20.json')"
      ],
      "metadata": {
        "id": "p6zGavI5gROF"
      },
      "execution_count": null,
      "outputs": []
    },
    {
      "cell_type": "markdown",
      "source": [
        "## Testing the best model"
      ],
      "metadata": {
        "id": "fB5YlwlYEoGT"
      }
    },
    {
      "cell_type": "code",
      "execution_count": null,
      "metadata": {
        "id": "TztTukk4VZub"
      },
      "outputs": [],
      "source": [
        "best_model_genetic = ModelByBlocks((('i', 56, 3, 4, 2), ('c', 64, 7, 5, 2),\n",
        "                                    ('c', 80, 9, 4, 2), ('c', 136, 7, 5, 2),\n",
        "                                    ('i', 80, 3, 5, 1), ('i', 96, 7, 4, 1),\n",
        "                                    ('i', 232, 5, 3, 1), ('i', 192, 7, 2, 1),\n",
        "                                    ('i', 176, 7, 2, 1), ('i', 176, 7, 5, 2)))"
      ]
    },
    {
      "cell_type": "code",
      "source": [
        "optimizer = optim.SGD(best_model_genetic.parameters(), lr=lr,\n",
        "                      momentum=momentum, weight_decay=weight_decay)\n",
        "\n",
        "step_lr_scheduler = lr_scheduler.StepLR(optimizer, step_size=step_size, gamma=gamma)\n",
        "best_model_genetic = best_model_genetic.to(device)\n",
        "fitted_best_genetic, best_genetic_stats = train_model(best_model_genetic, dataloaders, dataset_sizes, criterion, optimizer,\n",
        "                                step_lr_scheduler, device=device, num_epochs=num_epochs)\n",
        "\n",
        "torch.save(fitted_best_genetic.state_dict(), './best_model_evo.pth')\n",
        "with open('best_genetic_stats.json', 'w') as json_file:\n",
        "    json.dump(best_genetic_stats, json_file)\n",
        "\n",
        "files.download('best_model_evo.pth')\n",
        "files.download('best_genetic_stats.json')"
      ],
      "metadata": {
        "id": "sGFO0jx2kHBZ"
      },
      "execution_count": null,
      "outputs": []
    },
    {
      "cell_type": "code",
      "source": [
        "z = range(1, num_epochs+1)\n",
        "plt.plot(z, best_genetic_stats['Training Accuracy'], label='Train')\n",
        "plt.plot(z, best_genetic_stats['Validation Accuracy'], label='Val')\n",
        "\n",
        "# Dai un nome agli assi\n",
        "plt.xlabel('Epoch')\n",
        "plt.ylabel('Accuracy')\n",
        "\n",
        "plt.legend(loc='lower right')\n",
        "plt.grid(linewidth=0.5)\n",
        "plt.title('Accuracy best model genetic')\n",
        "\n",
        "# Visualizza il grafico\n",
        "plt.show()"
      ],
      "metadata": {
        "id": "gnTYfYGak8lb"
      },
      "execution_count": null,
      "outputs": []
    },
    {
      "cell_type": "markdown",
      "source": [
        "# Comparison with MobileNetV3"
      ],
      "metadata": {
        "id": "CPm_cZGKTgkt"
      }
    },
    {
      "cell_type": "code",
      "source": [
        "# MobileNetV3 Small\n",
        "\n",
        "model_mn3 = models.mobilenet_v3_small()\n",
        "model_mn3 = model_mn3.to(device)\n",
        "\n",
        "model_mn3.classifier[1].out_features = 2\n",
        "\n",
        "param_mn3 = count_params(model_mn3)\n",
        "macs_mn3, _ = get_macs_and_params(model_mn3, [1, 3, dim_image, dim_image])\n",
        "print(f'MobileNetV3 Small has {param_mn3} parameters and {macs_mn3*2} FLOPs')\n",
        "\n",
        "optimizer = optim.SGD(model_mn3.parameters(), lr=lr, momentum=momentum, weight_decay=weight_decay)\n",
        "step_lr_scheduler = lr_scheduler.StepLR(optimizer, step_size=step_size, gamma=gamma)\n",
        "model_mn3, MN3_small_stats = train_model(model_mn3, criterion, optimizer, step_lr_scheduler, num_epochs=num_epochs)\n",
        "\n",
        "# MobileNetV3 Large\n",
        "\n",
        "model_mn3_large = models.mobilenet_v3_large()\n",
        "model_mn3_large = model_mn3_large.to(device)\n",
        "\n",
        "model_mn3_large.classifier[1].out_features = 2\n",
        "\n",
        "param_mn3 = count_params(model_mn3_large)\n",
        "macs_mn3, _ = get_macs_and_params(model_mn3_large, [1, 3, dim_image, dim_image])\n",
        "print(f'MobileNetV3 Large has {param_mn3} parameters and {macs_mn3*2} FLOPs')\n",
        "\n",
        "optimizer = optim.SGD(model_mn3_large.parameters(), lr=lr, momentum=momentum, weight_decay=weight_decay)\n",
        "step_lr_scheduler = lr_scheduler.StepLR(optimizer, step_size=step_size, gamma=gamma)\n",
        "model_mn3_large, MN3_large_stats = train_model(model_mn3_large, criterion, optimizer, step_lr_scheduler, num_epochs=num_epochs)"
      ],
      "metadata": {
        "id": "-3fF78G1TkNG"
      },
      "execution_count": null,
      "outputs": []
    }
  ],
  "metadata": {
    "colab": {
      "collapsed_sections": [
        "tvmIrg8DLJ6h",
        "bpyoWwne0y01",
        "HI69kKd1LEeU",
        "oxAq4BvVp_j5",
        "loD4CHgBy5yW",
        "RpPwkiYJh9e1",
        "M4pPTwcwDaWU",
        "kFXgSHNzCoiR",
        "ktrSjeKsEnmF",
        "SsV1Xo6HtFEy",
        "wL9nyEkQtZWj",
        "SOVkbOE5lNhk",
        "fB5YlwlYEoGT",
        "CPm_cZGKTgkt"
      ],
      "machine_shape": "hm",
      "provenance": [],
      "gpuType": "T4"
    },
    "kernelspec": {
      "display_name": "Python 3",
      "name": "python3"
    },
    "language_info": {
      "name": "python"
    },
    "accelerator": "GPU"
  },
  "nbformat": 4,
  "nbformat_minor": 0
}